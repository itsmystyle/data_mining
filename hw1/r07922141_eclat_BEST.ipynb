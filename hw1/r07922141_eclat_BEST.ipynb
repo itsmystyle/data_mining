{
 "cells": [
  {
   "cell_type": "code",
   "execution_count": 1,
   "metadata": {},
   "outputs": [],
   "source": [
    "import numpy as np\n",
    "import itertools\n",
    "import gc\n",
    "from timeit import default_timer as timer\n",
    "import sys\n",
    "gc.enable()"
   ]
  },
  {
   "cell_type": "code",
   "execution_count": 2,
   "metadata": {},
   "outputs": [],
   "source": [
    "def eclat(current, candidates):\n",
    "    if not candidates:\n",
    "        return\n",
    "    \n",
    "    _C = []\n",
    "    nxt_candidates = []\n",
    "    current = frozenset(current)\n",
    "    \n",
    "    for i in candidates:\n",
    "        if i not in current:\n",
    "            sm = np.count_nonzero(np.logical_and(bitvector_dict[current], bitvector_dict[i]))\n",
    "            if sm >= min_support:\n",
    "                _C.append([current | i, sm, i])\n",
    "                bitvector_dict[current | i] = np.logical_and(bitvector_dict[current], bitvector_dict[i])\n",
    "                nxt_candidates.append(i)\n",
    "    \n",
    "    for nxt, freq, i in _C:\n",
    "        result.append([nxt, freq])\n",
    "        nxt_candidates.remove(i)\n",
    "        eclat(nxt, nxt_candidates)\n",
    "    \n",
    "    del nxt_candidates\n",
    "    del _C\n",
    "    del current"
   ]
  },
  {
   "cell_type": "code",
   "execution_count": 3,
   "metadata": {},
   "outputs": [],
   "source": [
    "def main(input_path, m_supp, output_path):\n",
    "\n",
    "    with open(input_path, 'r') as fin:\n",
    "        inp = fin.readlines()\n",
    "\n",
    "    # toy_example = ['1 3 4', '2 3 5', '1 2 3 5', '2 5']\n",
    "    # inp = toy_example\n",
    "\n",
    "    global min_support\n",
    "    min_support = len(inp) * m_supp\n",
    "    txs_len = len(inp)\n",
    "\n",
    "    global bitvector_dict\n",
    "    bitvector_dict = {}\n",
    "\n",
    "    for idx, data in enumerate(inp):\n",
    "        v = [frozenset([int(i)]) for i in data.rstrip().split()]\n",
    "        for item in v:\n",
    "            if item not in bitvector_dict:\n",
    "                bitvector_dict[item] = np.array([0] * txs_len)\n",
    "            bitvector_dict[item][idx] = 1 \n",
    "\n",
    "    global result\n",
    "    result = []\n",
    "\n",
    "    start = timer()\n",
    "    print(\"Start Timer...\")\n",
    "\n",
    "    cand = set(bitvector_dict.keys())\n",
    "    bitvector_dict[frozenset([])] = np.array([1] * txs_len)\n",
    "    eclat(set([]), cand)\n",
    "\n",
    "    end = timer()\n",
    "    print('Time used: ', end - start)\n",
    "    \n",
    "    answer = []\n",
    "    for st, freq in result:\n",
    "        lst = sorted(st, key=lambda x: x)\n",
    "        answer.append([lst, freq])\n",
    "    \n",
    "    result = sorted(answer, key=lambda x: (-len(x[0]), x[0], -x[1]))\n",
    "    \n",
    "    print('Answer length: ', len(result))\n",
    "    \n",
    "    with open(output_path, 'w') as fout:\n",
    "        for key, value in result:\n",
    "            fout.write(' '.join(map(str, key)) + ' (' + str(value) + ')\\n')"
   ]
  },
  {
   "cell_type": "code",
   "execution_count": 4,
   "metadata": {},
   "outputs": [
    {
     "name": "stdout",
     "output_type": "stream",
     "text": [
      "Start Timer...\n",
      "Time used:  0.02736532100061595\n",
      "Answer length:  1121\n"
     ]
    }
   ],
   "source": [
    "if __name__ == '__main__':\n",
    "    main('data.txt', 0.35, 'blabla.txt')"
   ]
  },
  {
   "cell_type": "code",
   "execution_count": null,
   "metadata": {},
   "outputs": [],
   "source": []
  }
 ],
 "metadata": {
  "kernelspec": {
   "display_name": "Python 3",
   "language": "python",
   "name": "python3"
  },
  "language_info": {
   "codemirror_mode": {
    "name": "ipython",
    "version": 3
   },
   "file_extension": ".py",
   "mimetype": "text/x-python",
   "name": "python",
   "nbconvert_exporter": "python",
   "pygments_lexer": "ipython3",
   "version": "3.6.6"
  }
 },
 "nbformat": 4,
 "nbformat_minor": 2
}

{
 "cells": [
  {
   "cell_type": "code",
   "execution_count": 1,
   "metadata": {},
   "outputs": [],
   "source": [
    "import itertools\n",
    "import time\n",
    "import numpy as np\n",
    "row_data = np.loadtxt('data.txt')\n",
    "r_data = []\n",
    "for i in range (0,len(row_data),1):\n",
    "    l = list()\n",
    "    for j in range(0,len(row_data[i]),1): \n",
    "        l.append(int(row_data[i][j]))\n",
    "    r_data.append (l)"
   ]
  },
  {
   "cell_type": "code",
   "execution_count": 2,
   "metadata": {},
   "outputs": [],
   "source": [
    "item_dict = {}\n",
    "for i in range (0,len(r_data),1):\n",
    "    for item in r_data[i] :\n",
    "        item_dict[item] = []\n",
    "for i in range (0,len(r_data),1):\n",
    "    for key in item_dict.keys():\n",
    "        if key in r_data[i]: item_dict[key].append(1)\n",
    "        else:item_dict[key].append(0)"
   ]
  },
  {
   "cell_type": "code",
   "execution_count": 3,
   "metadata": {},
   "outputs": [],
   "source": [
    "testing = ['1','2','3','4','5']\n",
    "test = list (map(frozenset,testing))"
   ]
  },
  {
   "cell_type": "code",
   "execution_count": 4,
   "metadata": {},
   "outputs": [],
   "source": [
    "all_item = list(item_dict.keys())\n",
    "a_item = [[op] for op in all_item ]\n",
    "one_item_set = list (map(frozenset,a_item))"
   ]
  },
  {
   "cell_type": "code",
   "execution_count": 5,
   "metadata": {},
   "outputs": [],
   "source": [
    "def binary_and (numpya, numpyb):\n",
    "    answer = np.logical_and(numpya,numpyb)\n",
    "    sup = np.count_nonzero(answer)\n",
    "    return sup , np.array(answer,dtype=int) "
   ]
  },
  {
   "cell_type": "code",
   "execution_count": 6,
   "metadata": {},
   "outputs": [],
   "source": [
    "r_list = []\n",
    "r_dict = {}\n",
    "for i  in range (len(one_item_set)):\n",
    "    dd, ee = binary_and (np.array (item_dict [int(list(one_item_set[i])[0])] ) , np.array (item_dict [int(list(one_item_set[i])[0])]))\n",
    "    r_dict [one_item_set[i]] = ee"
   ]
  },
  {
   "cell_type": "code",
   "execution_count": 7,
   "metadata": {},
   "outputs": [],
   "source": [
    "a,b =binary_and (r_dict[frozenset({1})] ,r_dict[frozenset({36})] ) "
   ]
  },
  {
   "cell_type": "code",
   "execution_count": 8,
   "metadata": {},
   "outputs": [],
   "source": [
    "r_list = [r_dict]"
   ]
  },
  {
   "cell_type": "code",
   "execution_count": 9,
   "metadata": {},
   "outputs": [
    {
     "name": "stdout",
     "output_type": "stream",
     "text": [
      "{frozenset({1}): array([1, 1, 1, ..., 1, 1, 1]), frozenset({5}): array([1, 1, 1, ..., 0, 0, 0]), frozenset({12}): array([1, 1, 1, ..., 1, 1, 1]), frozenset({21}): array([1, 1, 1, ..., 0, 0, 0]), frozenset({23}): array([1, 1, 1, ..., 0, 0, 0]), frozenset({25}): array([1, 1, 1, ..., 0, 0, 0]), frozenset({36}): array([1, 1, 1, ..., 0, 0, 0]), frozenset({39}): array([1, 1, 1, ..., 0, 0, 0]), frozenset({42}): array([1, 1, 1, ..., 0, 0, 0]), frozenset({53}): array([1, 1, 0, ..., 0, 0, 0]), frozenset({56}): array([1, 1, 1, ..., 0, 0, 0]), frozenset({57}): array([1, 1, 1, ..., 0, 0, 0]), frozenset({67}): array([1, 1, 1, ..., 1, 1, 1]), frozenset({71}): array([1, 1, 1, ..., 1, 1, 1]), frozenset({79}): array([1, 1, 1, ..., 0, 0, 0]), frozenset({88}): array([1, 1, 1, ..., 0, 0, 0]), frozenset({90}): array([1, 1, 1, ..., 1, 1, 1]), frozenset({94}): array([1, 1, 1, ..., 0, 0, 0]), frozenset({97}): array([1, 1, 1, ..., 1, 1, 1]), frozenset({104}): array([1, 1, 1, ..., 1, 1, 1]), frozenset({113}): array([1, 0, 1, ..., 0, 0, 0]), frozenset({120}): array([1, 1, 1, ..., 0, 1, 0]), frozenset({128}): array([1, 1, 1, ..., 0, 0, 0]), frozenset({108}): array([0, 1, 0, ..., 0, 0, 0]), frozenset({50}): array([0, 0, 1, ..., 0, 0, 0]), frozenset({44}): array([0, 0, 0, ..., 1, 1, 1]), frozenset({26}): array([0, 0, 0, ..., 0, 0, 0]), frozenset({22}): array([0, 0, 0, ..., 0, 0, 0]), frozenset({9}): array([0, 0, 0, ..., 0, 0, 0]), frozenset({6}): array([0, 0, 0, ..., 0, 0, 0]), frozenset({3}): array([0, 0, 0, ..., 0, 0, 0]), frozenset({38}): array([0, 0, 0, ..., 1, 1, 1]), frozenset({41}): array([0, 0, 0, ..., 1, 1, 1]), frozenset({55}): array([0, 0, 0, ..., 1, 1, 1]), frozenset({58}): array([0, 0, 0, ..., 0, 0, 0]), frozenset({107}): array([0, 0, 0, ..., 0, 0, 0]), frozenset({119}): array([0, 0, 0, ..., 0, 0, 0]), frozenset({124}): array([0, 0, 0, ..., 0, 0, 0]), frozenset({122}): array([0, 0, 0, ..., 0, 0, 0]), frozenset({118}): array([0, 0, 0, ..., 0, 0, 0]), frozenset({47}): array([0, 0, 0, ..., 0, 0, 0]), frozenset({43}): array([0, 0, 0, ..., 0, 0, 0]), frozenset({11}): array([0, 0, 0, ..., 0, 0, 0]), frozenset({62}): array([0, 0, 0, ..., 0, 0, 0]), frozenset({69}): array([0, 0, 0, ..., 0, 0, 0]), frozenset({121}): array([0, 0, 0, ..., 0, 0, 0]), frozenset({125}): array([0, 0, 0, ..., 0, 0, 0]), frozenset({13}): array([0, 0, 0, ..., 1, 1, 1]), frozenset({16}): array([0, 0, 0, ..., 0, 0, 0]), frozenset({24}): array([0, 0, 0, ..., 1, 1, 1]), frozenset({31}): array([0, 0, 0, ..., 1, 1, 1]), frozenset({60}): array([0, 0, 0, ..., 0, 0, 0]), frozenset({126}): array([0, 0, 0, ..., 0, 0, 0]), frozenset({8}): array([0, 0, 0, ..., 0, 0, 0]), frozenset({2}): array([0, 0, 0, ..., 0, 0, 0]), frozenset({32}): array([0, 0, 0, ..., 0, 0, 0]), frozenset({100}): array([0, 0, 0, ..., 0, 0, 0]), frozenset({116}): array([0, 0, 0, ..., 0, 0, 0]), frozenset({68}): array([0, 0, 0, ..., 0, 0, 0]), frozenset({64}): array([0, 0, 0, ..., 0, 0, 0]), frozenset({46}): array([0, 0, 0, ..., 0, 0, 0]), frozenset({86}): array([0, 0, 0, ..., 0, 0, 0]), frozenset({84}): array([0, 0, 0, ..., 0, 0, 0]), frozenset({77}): array([0, 0, 0, ..., 0, 0, 0]), frozenset({75}): array([0, 0, 0, ..., 0, 0, 0]), frozenset({51}): array([0, 0, 0, ..., 0, 0, 0]), frozenset({20}): array([0, 0, 0, ..., 0, 0, 0]), frozenset({27}): array([0, 0, 0, ..., 0, 0, 0]), frozenset({18}): array([0, 0, 0, ..., 0, 0, 0]), frozenset({29}): array([0, 0, 0, ..., 0, 0, 0]), frozenset({66}): array([0, 0, 0, ..., 0, 0, 0]), frozenset({70}): array([0, 0, 0, ..., 0, 0, 0]), frozenset({73}): array([0, 0, 0, ..., 0, 0, 0]), frozenset({82}): array([0, 0, 0, ..., 0, 0, 0]), frozenset({102}): array([0, 0, 0, ..., 0, 0, 0]), frozenset({110}): array([0, 0, 0, ..., 0, 0, 0]), frozenset({81}): array([0, 0, 0, ..., 0, 0, 0]), frozenset({72}): array([0, 0, 0, ..., 0, 0, 0]), frozenset({63}): array([0, 0, 0, ..., 1, 1, 1]), frozenset({101}): array([0, 0, 0, ..., 0, 0, 0]), frozenset({19}): array([0, 0, 0, ..., 0, 0, 0]), frozenset({17}): array([0, 0, 0, ..., 0, 0, 0]), frozenset({14}): array([0, 0, 0, ..., 0, 0, 0]), frozenset({98}): array([0, 0, 0, ..., 0, 0, 0]), frozenset({111}): array([0, 0, 0, ..., 0, 0, 0]), frozenset({48}): array([0, 0, 0, ..., 0, 0, 0]), frozenset({114}): array([0, 0, 0, ..., 0, 0, 0]), frozenset({123}): array([0, 0, 0, ..., 1, 1, 1]), frozenset({15}): array([0, 0, 0, ..., 0, 0, 0]), frozenset({7}): array([0, 0, 0, ..., 1, 1, 1]), frozenset({117}): array([0, 0, 0, ..., 1, 0, 1]), frozenset({127}): array([0, 0, 0, ..., 0, 0, 0]), frozenset({87}): array([0, 0, 0, ..., 0, 0, 0]), frozenset({78}): array([0, 0, 0, ..., 0, 0, 0]), frozenset({52}): array([0, 0, 0, ..., 0, 0, 0]), frozenset({10}): array([0, 0, 0, ..., 0, 0, 0]), frozenset({4}): array([0, 0, 0, ..., 0, 0, 0]), frozenset({89}): array([0, 0, 0, ..., 0, 0, 0]), frozenset({45}): array([0, 0, 0, ..., 0, 0, 0]), frozenset({28}): array([0, 0, 0, ..., 0, 0, 0]), frozenset({33}): array([0, 0, 0, ..., 0, 0, 0]), frozenset({30}): array([0, 0, 0, ..., 0, 0, 0]), frozenset({74}): array([0, 0, 0, ..., 0, 0, 0]), frozenset({83}): array([0, 0, 0, ..., 0, 0, 0]), frozenset({96}): array([0, 0, 0, ..., 0, 0, 0]), frozenset({103}): array([0, 0, 0, ..., 0, 0, 0]), frozenset({54}): array([0, 0, 0, ..., 0, 0, 0]), frozenset({34}): array([0, 0, 0, ..., 1, 1, 1]), frozenset({65}): array([0, 0, 0, ..., 0, 0, 0]), frozenset({80}): array([0, 0, 0, ..., 0, 0, 0]), frozenset({95}): array([0, 0, 0, ..., 0, 0, 0]), frozenset({76}): array([0, 0, 0, ..., 1, 1, 1]), frozenset({85}): array([0, 0, 0, ..., 1, 1, 1]), frozenset({93}): array([0, 0, 0, ..., 0, 0, 0]), frozenset({115}): array([0, 0, 0, ..., 0, 0, 0]), frozenset({112}): array([0, 0, 0, ..., 1, 0, 0]), frozenset({109}): array([0, 0, 0, ..., 0, 1, 1]), frozenset({92}): array([0, 0, 0, ..., 1, 1, 1]), frozenset({49}): array([0, 0, 0, ..., 0, 0, 0])}\n"
     ]
    }
   ],
   "source": [
    "print (r_dict)"
   ]
  },
  {
   "cell_type": "code",
   "execution_count": 10,
   "metadata": {},
   "outputs": [],
   "source": [
    "def frequency (U1,U2):\n",
    "    #op =r_list [D]\n",
    "    #print (op)\n",
    "    sup  = binary_and (r_dict[U1] , r_dict[U2])\n",
    "    return sup"
   ]
  },
  {
   "cell_type": "code",
   "execution_count": 11,
   "metadata": {},
   "outputs": [
    {
     "name": "stdout",
     "output_type": "stream",
     "text": [
      "(4296, array([1, 1, 1, ..., 0, 0, 0]))\n"
     ]
    }
   ],
   "source": [
    "print (frequency (frozenset({1}),frozenset({36})) )"
   ]
  },
  {
   "cell_type": "code",
   "execution_count": 12,
   "metadata": {},
   "outputs": [
    {
     "name": "stdout",
     "output_type": "stream",
     "text": [
      "frozenset({2, 5})\n"
     ]
    }
   ],
   "source": [
    "print (frozenset({5}) | frozenset({2}))"
   ]
  },
  {
   "cell_type": "code",
   "execution_count": 13,
   "metadata": {},
   "outputs": [],
   "source": [
    "def eclat(prefix, items, D):\n",
    "    if not items: return\n",
    "    candidates = []\n",
    "    #candidates = [(prefix | i, frequency(prefix ,i), i)\n",
    "    #              for i in items if i not in prefix]\n",
    "    a= []\n",
    "    for i in items: \n",
    "        if i not in prefix:\n",
    "            s, arr = frequency(prefix ,i)\n",
    "            if (s >= 2946):\n",
    "                a.append (   (prefix | i ,s,arr, i)    )\n",
    "    #print (candidates[0])\n",
    "    #frequent = filter(lambda x: x[1][0] >= 4000, candidates)\n",
    "    #a = list (frequent)\n",
    "    #print (a[0][0],a[0][1])\n",
    "    \n",
    "   \n",
    "    for k in range(0,len(a),1):\n",
    "        r_dict[a[k][0]] = a[k][2]\n",
    "    #print (a[k][0])\n",
    "    \n",
    "    \n",
    "    #print (list(frequent))\n",
    "    for new_prefix, s ,a , i in a:\n",
    "        #frequent_items.append(new_prefix)\n",
    "#         print (new_prefix)\n",
    "        if (i in items):\n",
    "            items.remove(i)\n",
    "        \n",
    "       \n",
    "        #print (items)\n",
    "        eclat(new_prefix, items, D)\n",
    "    \n",
    "\n"
   ]
  },
  {
   "cell_type": "code",
   "execution_count": 14,
   "metadata": {},
   "outputs": [
    {
     "ename": "ValueError",
     "evalue": "list.remove(x): x not in list",
     "output_type": "error",
     "traceback": [
      "\u001b[0;31m---------------------------------------------------------------------------\u001b[0m",
      "\u001b[0;31mValueError\u001b[0m                                Traceback (most recent call last)",
      "\u001b[0;32m<ipython-input-14-a09c373cbc72>\u001b[0m in \u001b[0;36m<module>\u001b[0;34m()\u001b[0m\n\u001b[1;32m      1\u001b[0m \u001b[0;32mimport\u001b[0m \u001b[0mtime\u001b[0m\u001b[0;34m\u001b[0m\u001b[0m\n\u001b[1;32m      2\u001b[0m \u001b[0mstart\u001b[0m \u001b[0;34m=\u001b[0m \u001b[0mtime\u001b[0m\u001b[0;34m.\u001b[0m\u001b[0mtime\u001b[0m\u001b[0;34m(\u001b[0m\u001b[0;34m)\u001b[0m\u001b[0;34m\u001b[0m\u001b[0m\n\u001b[0;32m----> 3\u001b[0;31m \u001b[0meclat\u001b[0m \u001b[0;34m(\u001b[0m\u001b[0mfrozenset\u001b[0m\u001b[0;34m(\u001b[0m\u001b[0;34m{\u001b[0m\u001b[0;36m1\u001b[0m\u001b[0;34m}\u001b[0m\u001b[0;34m)\u001b[0m\u001b[0;34m,\u001b[0m\u001b[0mone_item_set\u001b[0m\u001b[0;34m,\u001b[0m\u001b[0;36m0\u001b[0m\u001b[0;34m)\u001b[0m\u001b[0;34m\u001b[0m\u001b[0m\n\u001b[0m\u001b[1;32m      4\u001b[0m \u001b[0mprint\u001b[0m \u001b[0;34m(\u001b[0m\u001b[0mtime\u001b[0m\u001b[0;34m.\u001b[0m\u001b[0mtime\u001b[0m\u001b[0;34m(\u001b[0m\u001b[0;34m)\u001b[0m\u001b[0;34m-\u001b[0m\u001b[0mstart\u001b[0m\u001b[0;34m)\u001b[0m\u001b[0;34m\u001b[0m\u001b[0m\n",
      "\u001b[0;32m<ipython-input-13-10ebe47f64eb>\u001b[0m in \u001b[0;36meclat\u001b[0;34m(prefix, items, D)\u001b[0m\n\u001b[1;32m     30\u001b[0m \u001b[0;34m\u001b[0m\u001b[0m\n\u001b[1;32m     31\u001b[0m         \u001b[0;31m#print (items)\u001b[0m\u001b[0;34m\u001b[0m\u001b[0;34m\u001b[0m\u001b[0m\n\u001b[0;32m---> 32\u001b[0;31m         \u001b[0meclat\u001b[0m\u001b[0;34m(\u001b[0m\u001b[0mnew_prefix\u001b[0m\u001b[0;34m,\u001b[0m \u001b[0mitems\u001b[0m\u001b[0;34m,\u001b[0m \u001b[0mD\u001b[0m\u001b[0;34m)\u001b[0m\u001b[0;34m\u001b[0m\u001b[0m\n\u001b[0m\u001b[1;32m     33\u001b[0m \u001b[0;34m\u001b[0m\u001b[0m\n",
      "\u001b[0;32m<ipython-input-13-10ebe47f64eb>\u001b[0m in \u001b[0;36meclat\u001b[0;34m(prefix, items, D)\u001b[0m\n\u001b[1;32m     30\u001b[0m \u001b[0;34m\u001b[0m\u001b[0m\n\u001b[1;32m     31\u001b[0m         \u001b[0;31m#print (items)\u001b[0m\u001b[0;34m\u001b[0m\u001b[0;34m\u001b[0m\u001b[0m\n\u001b[0;32m---> 32\u001b[0;31m         \u001b[0meclat\u001b[0m\u001b[0;34m(\u001b[0m\u001b[0mnew_prefix\u001b[0m\u001b[0;34m,\u001b[0m \u001b[0mitems\u001b[0m\u001b[0;34m,\u001b[0m \u001b[0mD\u001b[0m\u001b[0;34m)\u001b[0m\u001b[0;34m\u001b[0m\u001b[0m\n\u001b[0m\u001b[1;32m     33\u001b[0m \u001b[0;34m\u001b[0m\u001b[0m\n",
      "\u001b[0;32m<ipython-input-13-10ebe47f64eb>\u001b[0m in \u001b[0;36meclat\u001b[0;34m(prefix, items, D)\u001b[0m\n\u001b[1;32m     30\u001b[0m \u001b[0;34m\u001b[0m\u001b[0m\n\u001b[1;32m     31\u001b[0m         \u001b[0;31m#print (items)\u001b[0m\u001b[0;34m\u001b[0m\u001b[0;34m\u001b[0m\u001b[0m\n\u001b[0;32m---> 32\u001b[0;31m         \u001b[0meclat\u001b[0m\u001b[0;34m(\u001b[0m\u001b[0mnew_prefix\u001b[0m\u001b[0;34m,\u001b[0m \u001b[0mitems\u001b[0m\u001b[0;34m,\u001b[0m \u001b[0mD\u001b[0m\u001b[0;34m)\u001b[0m\u001b[0;34m\u001b[0m\u001b[0m\n\u001b[0m\u001b[1;32m     33\u001b[0m \u001b[0;34m\u001b[0m\u001b[0m\n",
      "\u001b[0;32m<ipython-input-13-10ebe47f64eb>\u001b[0m in \u001b[0;36meclat\u001b[0;34m(prefix, items, D)\u001b[0m\n\u001b[1;32m     30\u001b[0m \u001b[0;34m\u001b[0m\u001b[0m\n\u001b[1;32m     31\u001b[0m         \u001b[0;31m#print (items)\u001b[0m\u001b[0;34m\u001b[0m\u001b[0;34m\u001b[0m\u001b[0m\n\u001b[0;32m---> 32\u001b[0;31m         \u001b[0meclat\u001b[0m\u001b[0;34m(\u001b[0m\u001b[0mnew_prefix\u001b[0m\u001b[0;34m,\u001b[0m \u001b[0mitems\u001b[0m\u001b[0;34m,\u001b[0m \u001b[0mD\u001b[0m\u001b[0;34m)\u001b[0m\u001b[0;34m\u001b[0m\u001b[0m\n\u001b[0m\u001b[1;32m     33\u001b[0m \u001b[0;34m\u001b[0m\u001b[0m\n",
      "\u001b[0;32m<ipython-input-13-10ebe47f64eb>\u001b[0m in \u001b[0;36meclat\u001b[0;34m(prefix, items, D)\u001b[0m\n\u001b[1;32m     26\u001b[0m \u001b[0;31m#         print (new_prefix)\u001b[0m\u001b[0;34m\u001b[0m\u001b[0;34m\u001b[0m\u001b[0m\n\u001b[1;32m     27\u001b[0m \u001b[0;31m#         if (i in items):\u001b[0m\u001b[0;34m\u001b[0m\u001b[0;34m\u001b[0m\u001b[0m\n\u001b[0;32m---> 28\u001b[0;31m         \u001b[0mitems\u001b[0m\u001b[0;34m.\u001b[0m\u001b[0mremove\u001b[0m\u001b[0;34m(\u001b[0m\u001b[0mi\u001b[0m\u001b[0;34m)\u001b[0m\u001b[0;34m\u001b[0m\u001b[0m\n\u001b[0m\u001b[1;32m     29\u001b[0m \u001b[0;34m\u001b[0m\u001b[0m\n\u001b[1;32m     30\u001b[0m \u001b[0;34m\u001b[0m\u001b[0m\n",
      "\u001b[0;31mValueError\u001b[0m: list.remove(x): x not in list"
     ]
    }
   ],
   "source": [
    "import time\n",
    "start = time.time()\n",
    "eclat (frozenset({1}),one_item_set,0)\n",
    "print (time.time()-start)"
   ]
  },
  {
   "cell_type": "code",
   "execution_count": null,
   "metadata": {},
   "outputs": [],
   "source": []
  }
 ],
 "metadata": {
  "kernelspec": {
   "display_name": "Python 3",
   "language": "python",
   "name": "python3"
  },
  "language_info": {
   "codemirror_mode": {
    "name": "ipython",
    "version": 3
   },
   "file_extension": ".py",
   "mimetype": "text/x-python",
   "name": "python",
   "nbconvert_exporter": "python",
   "pygments_lexer": "ipython3",
   "version": "3.6.6"
  }
 },
 "nbformat": 4,
 "nbformat_minor": 2
}

{
 "cells": [
  {
   "cell_type": "code",
   "execution_count": 1,
   "metadata": {},
   "outputs": [],
   "source": [
    "import numpy as np\n",
    "import itertools\n",
    "from timeit import default_timer as timer\n",
    "import argparse"
   ]
  },
  {
   "cell_type": "code",
   "execution_count": 2,
   "metadata": {},
   "outputs": [],
   "source": [
    "# To find all the combination given L(k-1)\n",
    "def combination(lst, n_comb):\n",
    "    to_return = []\n",
    "    for l in list(itertools.combinations(lst, n_comb)):\n",
    "        to_return.append(frozenset(l))\n",
    "        \n",
    "    return list(set(to_return))"
   ]
  },
  {
   "cell_type": "code",
   "execution_count": 3,
   "metadata": {},
   "outputs": [],
   "source": [
    "# To find all the combination given L(k-1) using union\n",
    "def unionSet(lst):\n",
    "    lg = len(lst)\n",
    "    s_lg = len(lst[0])\n",
    "    s_l = [l for l in lst]\n",
    "    u_s = [frozenset(s_l[i].union(s_l[j])) for i in range(lg-1) for j in range(i+1, lg) \\\n",
    "           if len(s_l[i].union(s_l[j])) == s_lg+1]\n",
    "    \n",
    "    return list(set(u_s))"
   ]
  },
  {
   "cell_type": "code",
   "execution_count": 4,
   "metadata": {},
   "outputs": [],
   "source": [
    "# To filter C to L\n",
    "def C2L(dic_, n_l):\n",
    "    to_return = {}\n",
    "    for key, value in dic_.items():\n",
    "        if value >= n_l:\n",
    "            to_return[key] = value\n",
    "    \n",
    "    return to_return"
   ]
  },
  {
   "cell_type": "code",
   "execution_count": 5,
   "metadata": {},
   "outputs": [],
   "source": [
    "def C2Scan(_C):\n",
    "    to_return = {}\n",
    "    for txd in _C:\n",
    "        to_return[txd] = TxdCount(txd)\n",
    "    \n",
    "    return to_return"
   ]
  },
  {
   "cell_type": "code",
   "execution_count": 6,
   "metadata": {},
   "outputs": [],
   "source": [
    "# Combination for the new C its subsets are all subset of L\n",
    "def _C2C(L, lst):\n",
    "    lf = len(L[0])\n",
    "    to_return = []\n",
    "    for value in lst:\n",
    "        if len(value) > lf + 1:\n",
    "            continue\n",
    "            \n",
    "        tmp = combination(value, lf)\n",
    "        if set(tmp).issubset(L):\n",
    "            to_return.append(value)\n",
    "    \n",
    "    return to_return"
   ]
  },
  {
   "cell_type": "code",
   "execution_count": 7,
   "metadata": {},
   "outputs": [],
   "source": [
    "# To build the first database given transaction (input.txt)\n",
    "def build_DB(Txd):\n",
    "    to_return = {}\n",
    "    for idx, data in enumerate(Txd):\n",
    "        to_return[idx] = set(list(map(int, data.rstrip().split())))\n",
    "    \n",
    "    return to_return"
   ]
  },
  {
   "cell_type": "code",
   "execution_count": 8,
   "metadata": {},
   "outputs": [],
   "source": [
    "# To count the frequency of the given combination\n",
    "def TxdCount(Txd):\n",
    "    to_return = 0\n",
    "    for key, value in DB.items():\n",
    "        if set(Txd).issubset(value):\n",
    "            to_return += 1\n",
    "    \n",
    "    return to_return"
   ]
  },
  {
   "cell_type": "code",
   "execution_count": 9,
   "metadata": {},
   "outputs": [],
   "source": [
    "def main(input_path, m_supp, output_path):\n",
    "    with open(input_path, 'r') as fin:\n",
    "        inp = fin.readlines()\n",
    "\n",
    "    # toy_example = ['1 3 4', '2 3 5', '1 2 3 5', '2 5']\n",
    "    # inp = toy_example\n",
    "\n",
    "    min_support = len(inp) * m_supp\n",
    "\n",
    "    start = timer()\n",
    "    print(\"Start Timer...\")\n",
    "\n",
    "    global DB \n",
    "    DB = build_DB(inp)\n",
    "\n",
    "    # DB to C1\n",
    "    fre_dict = {}\n",
    "\n",
    "    for data in inp:\n",
    "        lst = list(map(int,data.rstrip().split()))\n",
    "        for number in lst:\n",
    "            fzn = frozenset([number])\n",
    "            if fzn not in fre_dict.keys():\n",
    "                fre_dict[fzn] = 1\n",
    "            else:\n",
    "                fre_dict[fzn] += 1\n",
    "\n",
    "    C = fre_dict\n",
    "    all_L = []\n",
    "\n",
    "    # C1 to L1\n",
    "    L = C2L(C, min_support)\n",
    "    all_L.append(L)\n",
    "\n",
    "    # L1 to C2\n",
    "    # _C = combination(L.keys(), 2)\n",
    "    _C = unionSet(list(L.keys()))\n",
    "\n",
    "    # C2 to scan\n",
    "    C = C2Scan(_C)\n",
    "\n",
    "    # C2 to L2\n",
    "    L = C2L(C, min_support)\n",
    "    all_L.append(L)\n",
    "\n",
    "    while True:\n",
    "        if L == {}:\n",
    "            break\n",
    "\n",
    "        # L to C \n",
    "        _C = unionSet(list(L.keys()))\n",
    "        _C = _C2C(list(L.keys()), _C)\n",
    "\n",
    "        # C to scan\n",
    "        C = C2Scan(_C)\n",
    "\n",
    "        # C to L\n",
    "        L = C2L(C, min_support)\n",
    "\n",
    "        all_L.append(L)\n",
    "\n",
    "    end = timer()\n",
    "    print('Time used: ', end - start)\n",
    "\n",
    "    answer = []\n",
    "    for dic in all_L:\n",
    "        for key, value in dic.items():\n",
    "            answer.append([sorted(list(key), key=lambda x: x), value])\n",
    "\n",
    "    result = sorted(answer, key=lambda x: (-len(x[0]), x[0], -x[1]))\n",
    "    \n",
    "    print('Answer length: ', len(result))\n",
    "    \n",
    "    with open(output_path, 'w') as fout:\n",
    "        for key, value in result:\n",
    "            fout.write(' '.join(map(str, key)) + ' (' + str(value) + ')\\n')"
   ]
  },
  {
   "cell_type": "code",
   "execution_count": 10,
   "metadata": {},
   "outputs": [
    {
     "name": "stdout",
     "output_type": "stream",
     "text": [
      "Start Timer...\n",
      "C 388\n",
      "L 315\n",
      "C 384\n",
      "L 361\n",
      "C 217\n",
      "L 215\n",
      "C 62\n",
      "L 62\n",
      "C 6\n",
      "L 6\n",
      "C 0\n",
      "L 0\n",
      "Time used:  4.936828885999603\n",
      "Answer length:  1121\n"
     ]
    }
   ],
   "source": [
    "if __name__ == '__main__':\n",
    "    main('data.txt', 0.35, 't1_output.txt')"
   ]
  },
  {
   "cell_type": "code",
   "execution_count": null,
   "metadata": {},
   "outputs": [],
   "source": []
  }
 ],
 "metadata": {
  "kernelspec": {
   "display_name": "Python 3",
   "language": "python",
   "name": "python3"
  },
  "language_info": {
   "codemirror_mode": {
    "name": "ipython",
    "version": 3
   },
   "file_extension": ".py",
   "mimetype": "text/x-python",
   "name": "python",
   "nbconvert_exporter": "python",
   "pygments_lexer": "ipython3",
   "version": "3.6.6"
  }
 },
 "nbformat": 4,
 "nbformat_minor": 2
}
